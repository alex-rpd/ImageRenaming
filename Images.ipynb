{
 "cells": [
  {
   "cell_type": "code",
   "execution_count": 1,
   "metadata": {},
   "outputs": [],
   "source": [
    "from PIL import Image\n",
    "from tqdm import tqdm\n",
    "import glob\n",
    "import datetime\n",
    "import os\n",
    "import pickle\n",
    "from hachoir.parser import createParser\n",
    "from hachoir.metadata import extractMetadata\n",
    "\n",
    "path_to_files = r'C:\\Users\\AlexRpd\\Pictures\\iPhonePhotos\\Renamed'\n",
    "all_files = glob.glob(os.path.join(path_to_files, '*.*'))"
   ]
  },
  {
   "cell_type": "markdown",
   "metadata": {},
   "source": [
    "Check the unique filetypes:"
   ]
  },
  {
   "cell_type": "code",
   "execution_count": 2,
   "metadata": {},
   "outputs": [
    {
     "data": {
      "text/plain": [
       "{'dng', 'gif', 'jpeg', 'jpg', 'mov', 'mp4', 'png', 'tif', 'zip'}"
      ]
     },
     "execution_count": 2,
     "metadata": {},
     "output_type": "execute_result"
    }
   ],
   "source": [
    "set([i.split('.')[-1].lower() for i in all_files])"
   ]
  },
  {
   "cell_type": "markdown",
   "metadata": {},
   "source": [
    "Split by type"
   ]
  },
  {
   "cell_type": "code",
   "execution_count": null,
   "metadata": {},
   "outputs": [],
   "source": [
    "jpgs = list()\n",
    "movs = list()\n",
    "dngs = list()\n",
    "gifs = list()\n",
    "pngs = list()\n",
    "mp4s = list()\n",
    "zips = list()\n",
    "tifs = list()\n",
    "unsorted = list()\n",
    "filetypes = dict()\n",
    "\n",
    "for file in tqdm(all_files):\n",
    "    t = file.split('.')[-1].lower()\n",
    "    if 'jp' in t:\n",
    "        jpgs.append(file)\n",
    "    elif 'mov' in t:\n",
    "        movs.append(file)\n",
    "    elif 'dng' in t:\n",
    "        dngs.append(file)\n",
    "    elif 'gif' in t:\n",
    "        gifs.append(file)\n",
    "    elif 'png' in t:\n",
    "        pngs.append(file)\n",
    "    elif 'mp4' in t:\n",
    "        mp4s.append(file)\n",
    "    elif 'zip' in t:\n",
    "        zips.append(file)\n",
    "    elif 'tif' in t:\n",
    "        tifs.append(file)\n",
    "    else:\n",
    "        unsorted.append(file)\n",
    "\n",
    "filetypes = {'jpgs': jpgs,\n",
    "             'movs': movs,\n",
    "             'dngs': dngs,\n",
    "             'gifs': gifs,\n",
    "             'pngs': pngs,\n",
    "             'mp4s': mp4s,\n",
    "             'zips': zips,\n",
    "             'tifs': tifs}"
   ]
  },
  {
   "cell_type": "markdown",
   "metadata": {},
   "source": [
    "Method to use:\n",
    "* jpgs -> Image.open\n",
    "* mov -> creation_date\n",
    "* dng -> creation_date\n",
    "* gif -> ignore / delete\n",
    "* png -> ignore\n",
    "* mp4 -> creation_date\n",
    "* zip -> ignore\n",
    "* tif -> ignore / delete"
   ]
  },
  {
   "cell_type": "code",
   "execution_count": null,
   "metadata": {},
   "outputs": [],
   "source": [
    "def creation_date(filename):\n",
    "    return extractMetadata(createParser(filename)).get('creation_date')"
   ]
  },
  {
   "cell_type": "code",
   "execution_count": null,
   "metadata": {},
   "outputs": [],
   "source": [
    "renaming = dict()\n",
    "errs = list()\n",
    "for ftype in filetypes.keys():\n",
    "    for file in tqdm(filetypes[ftype]):\n",
    "        if ftype == 'jpgs':\n",
    "            try:\n",
    "                date = Image.open(file).getexif().get(36867).split(' ')[0].replace(':', '_')\n",
    "                time = Image.open(file).getexif().get(36867).split(' ')[1].replace(':', '')[:4]\n",
    "                fname = date+'_'+time\n",
    "                new_filename = os.path.join(file.rpartition('\\\\')[0], fname+'-'+file.rpartition('\\\\')[-1])\n",
    "                renaming[file] = new_filename\n",
    "            except Exception as e:\n",
    "                errs.append(['1', e, file])\n",
    "        elif ftype in ['movs', 'dngs', 'mp4']:\n",
    "            try:\n",
    "                date = str(creation_date(file).date()).replace('-','_')\n",
    "                time = str(creation_date(file).time()).replace(':','')[:-2]\n",
    "                fname = date+'_'+time\n",
    "                new_filename = os.path.join(file.rpartition('\\\\')[0], fname+'-'+file.rpartition('\\\\')[-1])\n",
    "                renaming[file] = new_filename\n",
    "            except Exception as e:\n",
    "                errs.append(['2', e, file])\n",
    "        else:\n",
    "            pass"
   ]
  },
  {
   "cell_type": "markdown",
   "metadata": {},
   "source": [
    "Renaming"
   ]
  },
  {
   "cell_type": "markdown",
   "metadata": {},
   "source": [
    "Dumping the renaming dictionary in a pickle to avoid rerunning if we need to restart the kernel to rename the files."
   ]
  },
  {
   "cell_type": "code",
   "execution_count": null,
   "metadata": {},
   "outputs": [],
   "source": [
    "# pickle_out = open(\"renaming.p\",\"wb\")\n",
    "# pickle.dump(renaming, pickle_out)\n",
    "# pickle_out.close()"
   ]
  },
  {
   "cell_type": "code",
   "execution_count": null,
   "metadata": {},
   "outputs": [],
   "source": [
    "for f in tqdm(renaming.keys()):\n",
    "    os.rename(f, renaming[f])"
   ]
  },
  {
   "cell_type": "markdown",
   "metadata": {},
   "source": [
    "Check what the errors are"
   ]
  },
  {
   "cell_type": "markdown",
   "metadata": {},
   "source": [
    "Delete the files with Input size nul.\n",
    "\n",
    "Needing to save the errs dictionary as a pickle because os.remove sometimes gives out an error as the file might be open in python, so restarting the kernel is needed and avoiding to run the previous functions is a workaround."
   ]
  },
  {
   "cell_type": "code",
   "execution_count": 6,
   "metadata": {},
   "outputs": [],
   "source": [
    "# pickle_out = open(\"errs.p\",\"wb\")\n",
    "# pickle.dump(errs, pickle_out)\n",
    "# pickle_out.close()"
   ]
  },
  {
   "cell_type": "code",
   "execution_count": 3,
   "metadata": {},
   "outputs": [],
   "source": [
    "pickle_in = open(\"errs.p\",\"rb\")\n",
    "errs = pickle.load(pickle_in)"
   ]
  },
  {
   "cell_type": "markdown",
   "metadata": {},
   "source": [
    "Delete the files"
   ]
  },
  {
   "cell_type": "code",
   "execution_count": 4,
   "metadata": {},
   "outputs": [],
   "source": [
    "for err in errs:\n",
    "    if str(err[1]).startswith('Input size is nul'):\n",
    "        os.remove(err[2])"
   ]
  },
  {
   "cell_type": "code",
   "execution_count": null,
   "metadata": {},
   "outputs": [],
   "source": []
  }
 ],
 "metadata": {
  "kernelspec": {
   "display_name": "Python 3",
   "language": "python",
   "name": "python3"
  },
  "language_info": {
   "codemirror_mode": {
    "name": "ipython",
    "version": 3
   },
   "file_extension": ".py",
   "mimetype": "text/x-python",
   "name": "python",
   "nbconvert_exporter": "python",
   "pygments_lexer": "ipython3",
   "version": "3.8.3"
  },
  "toc": {
   "base_numbering": 1,
   "nav_menu": {},
   "number_sections": true,
   "sideBar": true,
   "skip_h1_title": false,
   "title_cell": "Table of Contents",
   "title_sidebar": "Contents",
   "toc_cell": false,
   "toc_position": {},
   "toc_section_display": true,
   "toc_window_display": false
  }
 },
 "nbformat": 4,
 "nbformat_minor": 4
}
